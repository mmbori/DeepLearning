{
 "cells": [
  {
   "cell_type": "code",
   "execution_count": 1,
   "id": "40c751bd-e4d9-47d7-9df4-2ff943e55d75",
   "metadata": {},
   "outputs": [],
   "source": [
    "import tensorflow as tf\n",
    "import matplotlib.pyplot as plt\n",
    "from PIL import Image\n",
    "import numpy as np\n",
    "import json\n",
    "import cv2\n",
    "import os"
   ]
  },
  {
   "cell_type": "code",
   "execution_count": 2,
   "id": "3255508b-d550-4963-979e-b2b0376ca0d1",
   "metadata": {},
   "outputs": [],
   "source": [
    "path = \"D:/Image/HR\"\n",
    "resize_path = \"D:/Test\""
   ]
  },
  {
   "cell_type": "code",
   "execution_count": 5,
   "id": "b53aed7c-fc78-4eba-9320-b72303da69cb",
   "metadata": {},
   "outputs": [
    {
     "data": {
      "text/plain": [
       "['coffee (4).jpg',\n",
       " 'coffee (5).jpg',\n",
       " 'coffee (6).jpg',\n",
       " 'coffee (7).jpg',\n",
       " 'coffee (8).jpg',\n",
       " 'cucumber (1).jpg',\n",
       " 'cucumber (2).jpg',\n",
       " 'cucumber (3).jpg',\n",
       " 'cucumber (4).jpg',\n",
       " 'cucumber (5).jpg',\n",
       " 'dog (2).jpg',\n",
       " 'dog (3).jpg',\n",
       " 'dog (4).jpg',\n",
       " 'dog (5).jpg',\n",
       " 'dog (6).jpg',\n",
       " 'egg (1).jpg',\n",
       " 'egg (2).jpg',\n",
       " 'egg (4).jpg',\n",
       " 'egg (5).jpg',\n",
       " 'egg(3).jpg',\n",
       " 'pinut (1).jpg',\n",
       " 'pinut (2).jpg',\n",
       " 'pinut (3).jpg',\n",
       " 'pinut (4).jpg',\n",
       " 'pinut (5).jpg',\n",
       " 'salt (1).jpg',\n",
       " 'salt (2).jpg',\n",
       " 'salt (3).jpg',\n",
       " 'salt (4).jpg',\n",
       " 'salt (5).jpg',\n",
       " 'snow (1).jpg',\n",
       " 'snow (2).jpg',\n",
       " 'snow (3).jpg',\n",
       " 'snow (4).jpg',\n",
       " 'snow (5).jpg',\n",
       " 'tree (1).jpg',\n",
       " 'tree (2).jpg',\n",
       " 'tree (3).jpg',\n",
       " 'tree (4).jpg',\n",
       " 'tree (5).jpg']"
      ]
     },
     "execution_count": 5,
     "metadata": {},
     "output_type": "execute_result"
    }
   ],
   "source": [
    "file_list = os.listdir(path)\n",
    "file_list"
   ]
  },
  {
   "cell_type": "code",
   "execution_count": 6,
   "id": "b1578983-ef89-4b36-bd45-de9fa717202f",
   "metadata": {},
   "outputs": [
    {
     "name": "stdout",
     "output_type": "stream",
     "text": [
      "(6000, 4500)\n",
      "(6000, 4500)\n",
      "(6000, 4500)\n",
      "(6000, 4500)\n",
      "(6000, 4500)\n",
      "(3480, 2320)\n",
      "(3000, 2000)\n",
      "(3000, 2000)\n",
      "(3000, 2000)\n",
      "(3000, 2000)\n",
      "(6000, 4500)\n",
      "(6000, 4500)\n",
      "(6000, 4500)\n",
      "(6000, 4500)\n",
      "(6000, 4500)\n",
      "(3000, 2000)\n",
      "(3000, 2000)\n",
      "(3000, 2000)\n",
      "(3000, 2000)\n",
      "(3000, 2000)\n",
      "(6000, 4500)\n",
      "(6000, 4500)\n",
      "(6000, 4500)\n",
      "(3000, 2000)\n",
      "(6000, 4500)\n",
      "(6000, 4500)\n",
      "(6000, 4500)\n",
      "(6000, 4500)\n",
      "(3000, 2000)\n",
      "(3000, 2000)\n",
      "(6000, 4500)\n",
      "(6000, 4500)\n",
      "(6000, 4500)\n",
      "(3000, 2000)\n",
      "(6000, 4500)\n",
      "(6000, 4500)\n",
      "(6000, 4500)\n",
      "(6000, 4500)\n",
      "(6000, 4500)\n",
      "(6000, 4500)\n"
     ]
    }
   ],
   "source": [
    "for img in file_list :\n",
    "    img_dir = os.path.join(path, img)\n",
    "    image = Image.open(img_dir)\n",
    "    print(image.size)"
   ]
  },
  {
   "cell_type": "code",
   "execution_count": 8,
   "id": "472a3a74-c223-48a9-8486-52e916889f27",
   "metadata": {},
   "outputs": [
    {
     "name": "stdout",
     "output_type": "stream",
     "text": [
      "Width : 3000, height : 2000\n"
     ]
    }
   ],
   "source": [
    "img = os.path.join(path, \"egg(3).jpg\")\n",
    "image = Image.open(img)\n",
    "width, height = image.size\n",
    "print(\"Width : %d, height : %d\" % (width, height))"
   ]
  },
  {
   "cell_type": "code",
   "execution_count": 9,
   "id": "e10471d1-d7a5-470f-9f72-749ef45bd314",
   "metadata": {},
   "outputs": [],
   "source": [
    "resize_img = image.resize((int(width*0.1),int(height*0.1)))"
   ]
  },
  {
   "cell_type": "code",
   "execution_count": 10,
   "id": "9a8d3d58-cdea-4dd7-ae51-0b9e2aecc842",
   "metadata": {},
   "outputs": [],
   "source": [
    "img_bicubic = resize_img.resize((width, height), Image.BICUBIC)\n",
    "img_bicubic.save(\"D:/Test/bicubic.jpg\")\n",
    "\n",
    "img_nearest = resize_img.resize((width, height), Image.NEAREST)\n",
    "img_nearest.save(\"D:/Test/nearest.jpg\")\n",
    "\n",
    "img_hamming = resize_img.resize((width, height), Image.HAMMING)\n",
    "img_hamming.save(\"D:/Test/hamming.jpg\")\n",
    "\n",
    "img_box = resize_img.resize((width, height), Image.BOX)\n",
    "img_box.save(\"D:/Test/box.jpg\")\n",
    "\n",
    "img_lanczos = resize_img.resize((width, height), Image.LANCZOS)\n",
    "img_lanczos.save(\"D:/Test/lanczos.jpg\")\n"
   ]
  },
  {
   "cell_type": "code",
   "execution_count": 12,
   "id": "0fd631bc-8fee-4032-a3ab-29875c7494e6",
   "metadata": {},
   "outputs": [],
   "source": [
    "for img in file_list :\n",
    "    img_dir = os.path.join(path, img)\n",
    "    image = Image.open(img_dir)\n",
    "    # image size 차이 큼. Min size인 3000*2000으로 일괄 통일하겠음\n",
    "    resize_dir =  os.path.join(resize_path, img)\n",
    "    img_resize = image.resize((30, 20))\n",
    "    img_resize = image.resize((3000, 2000), Image.NEAREST)\n",
    "    img_resize.save(resize_dir)"
   ]
  },
  {
   "cell_type": "code",
   "execution_count": 13,
   "id": "1eff530f-2ed3-430f-916d-600281df88cb",
   "metadata": {},
   "outputs": [],
   "source": [
    "for img in file_list :\n",
    "    img_dir = os.path.join(path, img)\n",
    "    image = Image.open(img_dir)\n",
    "    width, height = image.size\n",
    "    # image size 차이 큼. Min size인 3000*2000으로 일괄 통일하겠음\n",
    "    resize_dir =  os.path.join(resize_path, img)\n",
    "    img_resize = image.resize((int(width*0.5), int(height*0.5)))\n",
    "    img_resize = image.resize((width, height), Image.BICUBIC)\n",
    "    img_resize.save(resize_dir)"
   ]
  },
  {
   "cell_type": "code",
   "execution_count": null,
   "id": "6e4d6f1f-22f8-497f-88f7-313d9f4d895d",
   "metadata": {},
   "outputs": [],
   "source": []
  },
  {
   "cell_type": "code",
   "execution_count": null,
   "id": "8c7a25da-dc90-4075-8ae7-50544a4d478a",
   "metadata": {},
   "outputs": [],
   "source": []
  },
  {
   "cell_type": "code",
   "execution_count": null,
   "id": "ec602d32-804e-4458-a775-d47e38db5385",
   "metadata": {},
   "outputs": [],
   "source": []
  },
  {
   "cell_type": "code",
   "execution_count": null,
   "id": "da6d9423-25ca-4bb3-aa04-0ad4f53a68b2",
   "metadata": {},
   "outputs": [],
   "source": []
  },
  {
   "cell_type": "code",
   "execution_count": null,
   "id": "1a8590a2-ab07-44d8-b486-a24ac2bbfe7e",
   "metadata": {},
   "outputs": [],
   "source": []
  },
  {
   "cell_type": "code",
   "execution_count": null,
   "id": "0dcb417a-f166-471d-b236-dd5d6d087927",
   "metadata": {},
   "outputs": [],
   "source": []
  },
  {
   "cell_type": "code",
   "execution_count": null,
   "id": "495eb695-00a8-4f46-ad15-58894bdbcce3",
   "metadata": {},
   "outputs": [],
   "source": []
  },
  {
   "cell_type": "code",
   "execution_count": null,
   "id": "41298231-aa58-4a88-9085-a566c9bfb227",
   "metadata": {},
   "outputs": [],
   "source": []
  },
  {
   "cell_type": "code",
   "execution_count": null,
   "id": "89d4673a-bdc3-4a3f-9e79-cf93d3565e54",
   "metadata": {},
   "outputs": [],
   "source": []
  },
  {
   "cell_type": "code",
   "execution_count": null,
   "id": "18469ff5-45f9-4806-bc92-2dbeb4e72df7",
   "metadata": {},
   "outputs": [],
   "source": []
  },
  {
   "cell_type": "code",
   "execution_count": null,
   "id": "449e9d57-7c3c-4c2c-ab78-b71896d55c75",
   "metadata": {},
   "outputs": [],
   "source": []
  }
 ],
 "metadata": {
  "kernelspec": {
   "display_name": "Python 3 (ipykernel)",
   "language": "python",
   "name": "python3"
  },
  "language_info": {
   "codemirror_mode": {
    "name": "ipython",
    "version": 3
   },
   "file_extension": ".py",
   "mimetype": "text/x-python",
   "name": "python",
   "nbconvert_exporter": "python",
   "pygments_lexer": "ipython3",
   "version": "3.9.12"
  }
 },
 "nbformat": 4,
 "nbformat_minor": 5
}
